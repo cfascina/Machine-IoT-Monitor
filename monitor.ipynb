{
 "cells": [
  {
   "cell_type": "code",
   "execution_count": 1,
   "id": "e14c6950-525d-4e54-a25e-13e9d6818c67",
   "metadata": {},
   "outputs": [],
   "source": [
    "import configparser\n",
    "import findspark\n",
    "import os\n",
    "import pyspark\n",
    "import time\n",
    "\n",
    "from functools import reduce\n",
    "from pyspark.sql import DataFrame, SparkSession\n",
    "from pyspark.sql.functions import col, from_json\n",
    "from pyspark.sql.types import StructType, StructField, StringType, DoubleType, IntegerType\n",
    "from pyspark.streaming import StreamingContext"
   ]
  },
  {
   "cell_type": "code",
   "execution_count": 2,
   "id": "983c8861",
   "metadata": {},
   "outputs": [
    {
     "data": {
      "text/plain": [
       "['config.ini']"
      ]
     },
     "execution_count": 2,
     "metadata": {},
     "output_type": "execute_result"
    }
   ],
   "source": [
    "config = configparser.ConfigParser()\n",
    "config.read('config.ini')"
   ]
  },
  {
   "cell_type": "code",
   "execution_count": 3,
   "id": "529fbc1d",
   "metadata": {},
   "outputs": [],
   "source": [
    "TOPIC = config['LOCAL']['TOPIC']\n",
    "SERVER = config['LOCAL']['SERVER']\n",
    "INTERVAL = int(config['LOCAL']['INTERVAL'])"
   ]
  },
  {
   "cell_type": "code",
   "execution_count": 4,
   "id": "3183aeb7",
   "metadata": {},
   "outputs": [],
   "source": [
    "findspark.init()"
   ]
  },
  {
   "cell_type": "code",
   "execution_count": 5,
   "id": "5172de34-9787-4f22-b1a7-8e9bb3b7cbf3",
   "metadata": {},
   "outputs": [],
   "source": [
    "os.environ['PYSPARK_SUBMIT_ARGS'] = '--packages org.apache.spark:spark-sql-kafka-0-10_2.12:3.3.1 pyspark-shell'"
   ]
  },
  {
   "cell_type": "code",
   "execution_count": 6,
   "id": "a35f1973-363c-4112-8440-62fca2410984",
   "metadata": {},
   "outputs": [
    {
     "name": "stdout",
     "output_type": "stream",
     "text": [
      "23/02/09 21:11:18 WARN Utils: Your hostname, pop-os resolves to a loopback address: 127.0.1.1; using 192.168.0.16 instead (on interface wlp4s0)\n",
      "23/02/09 21:11:18 WARN Utils: Set SPARK_LOCAL_IP if you need to bind to another address\n",
      ":: loading settings :: url = jar:file:/home/cfascina/Projetos/Machine-IoT-Monitor/.env/lib/python3.10/site-packages/pyspark/jars/ivy-2.5.0.jar!/org/apache/ivy/core/settings/ivysettings.xml\n"
     ]
    },
    {
     "name": "stderr",
     "output_type": "stream",
     "text": [
      "Ivy Default Cache set to: /home/cfascina/.ivy2/cache\n",
      "The jars for the packages stored in: /home/cfascina/.ivy2/jars\n",
      "org.apache.spark#spark-sql-kafka-0-10_2.12 added as a dependency\n",
      ":: resolving dependencies :: org.apache.spark#spark-submit-parent-6d0fadef-f50e-4e64-8689-578ea0824664;1.0\n",
      "\tconfs: [default]\n",
      "\tfound org.apache.spark#spark-sql-kafka-0-10_2.12;3.3.1 in central\n",
      "\tfound org.apache.spark#spark-token-provider-kafka-0-10_2.12;3.3.1 in central\n",
      "\tfound org.apache.kafka#kafka-clients;2.8.1 in central\n",
      "\tfound org.lz4#lz4-java;1.8.0 in central\n",
      "\tfound org.xerial.snappy#snappy-java;1.1.8.4 in central\n",
      "\tfound org.slf4j#slf4j-api;1.7.32 in central\n",
      "\tfound org.apache.hadoop#hadoop-client-runtime;3.3.2 in central\n",
      "\tfound org.spark-project.spark#unused;1.0.0 in central\n",
      "\tfound org.apache.hadoop#hadoop-client-api;3.3.2 in central\n",
      "\tfound commons-logging#commons-logging;1.1.3 in central\n",
      "\tfound com.google.code.findbugs#jsr305;3.0.0 in central\n",
      "\tfound org.apache.commons#commons-pool2;2.11.1 in central\n",
      ":: resolution report :: resolve 392ms :: artifacts dl 10ms\n",
      "\t:: modules in use:\n",
      "\tcom.google.code.findbugs#jsr305;3.0.0 from central in [default]\n",
      "\tcommons-logging#commons-logging;1.1.3 from central in [default]\n",
      "\torg.apache.commons#commons-pool2;2.11.1 from central in [default]\n",
      "\torg.apache.hadoop#hadoop-client-api;3.3.2 from central in [default]\n",
      "\torg.apache.hadoop#hadoop-client-runtime;3.3.2 from central in [default]\n",
      "\torg.apache.kafka#kafka-clients;2.8.1 from central in [default]\n",
      "\torg.apache.spark#spark-sql-kafka-0-10_2.12;3.3.1 from central in [default]\n",
      "\torg.apache.spark#spark-token-provider-kafka-0-10_2.12;3.3.1 from central in [default]\n",
      "\torg.lz4#lz4-java;1.8.0 from central in [default]\n",
      "\torg.slf4j#slf4j-api;1.7.32 from central in [default]\n",
      "\torg.spark-project.spark#unused;1.0.0 from central in [default]\n",
      "\torg.xerial.snappy#snappy-java;1.1.8.4 from central in [default]\n",
      "\t---------------------------------------------------------------------\n",
      "\t|                  |            modules            ||   artifacts   |\n",
      "\t|       conf       | number| search|dwnlded|evicted|| number|dwnlded|\n",
      "\t---------------------------------------------------------------------\n",
      "\t|      default     |   12  |   0   |   0   |   0   ||   12  |   0   |\n",
      "\t---------------------------------------------------------------------\n",
      ":: retrieving :: org.apache.spark#spark-submit-parent-6d0fadef-f50e-4e64-8689-578ea0824664\n",
      "\tconfs: [default]\n",
      "\t0 artifacts copied, 12 already retrieved (0kB/10ms)\n"
     ]
    },
    {
     "name": "stdout",
     "output_type": "stream",
     "text": [
      "23/02/09 21:11:19 WARN NativeCodeLoader: Unable to load native-hadoop library for your platform... using builtin-java classes where applicable\n"
     ]
    },
    {
     "name": "stderr",
     "output_type": "stream",
     "text": [
      "Setting default log level to \"WARN\".\n",
      "To adjust logging level use sc.setLogLevel(newLevel). For SparkR, use setLogLevel(newLevel).\n"
     ]
    },
    {
     "name": "stdout",
     "output_type": "stream",
     "text": [
      "23/02/09 21:11:19 WARN Utils: Service 'SparkUI' could not bind on port 4040. Attempting port 4041.\n"
     ]
    }
   ],
   "source": [
    "spark = SparkSession.builder.appName('Machine-IoT-Monitor').getOrCreate()"
   ]
  },
  {
   "cell_type": "code",
   "execution_count": 7,
   "id": "0fb79367",
   "metadata": {},
   "outputs": [],
   "source": [
    "schema = StructType([\n",
    "    StructField('id_machine', StringType(), True), \n",
    "    StructField('temperature', IntegerType(), True),\n",
    "    StructField('rpm', IntegerType(), True),\n",
    "    StructField('timestamp', StringType(), True) \n",
    "])"
   ]
  },
  {
   "cell_type": "code",
   "execution_count": 8,
   "id": "fa0de89c-e700-4754-9175-d95777b95a18",
   "metadata": {},
   "outputs": [],
   "source": [
    "df = spark \\\n",
    "    .readStream \\\n",
    "    .format('kafka') \\\n",
    "    .option('kafka.bootstrap.servers', SERVER) \\\n",
    "    .option('subscribe', TOPIC) \\\n",
    "    .load()"
   ]
  },
  {
   "cell_type": "code",
   "execution_count": 9,
   "id": "78a505e1-6004-48ab-8275-0cdb96de583a",
   "metadata": {},
   "outputs": [],
   "source": [
    "df = df.selectExpr('CAST(value AS STRING)')"
   ]
  },
  {
   "cell_type": "code",
   "execution_count": 10,
   "id": "85f204e2",
   "metadata": {},
   "outputs": [],
   "source": [
    "df_streaming = df.withColumn(\n",
    "    'jsonData', \n",
    "    from_json(col('value'), schema)\n",
    ").select('jsonData.*')\n"
   ]
  },
  {
   "cell_type": "code",
   "execution_count": 11,
   "id": "e7b2260f",
   "metadata": {},
   "outputs": [],
   "source": [
    "temp_table = f\"machine_data_{time.strftime('%H%M%S', time.localtime())}\""
   ]
  },
  {
   "cell_type": "code",
   "execution_count": 12,
   "id": "4cc17229",
   "metadata": {},
   "outputs": [
    {
     "name": "stdout",
     "output_type": "stream",
     "text": [
      "23/02/09 21:11:23 WARN ResolveWriteToStream: Temporary checkpoint location created which is deleted normally when the query didn't fail: /tmp/temporary-90aa2047-4c8f-4d57-9d11-8803e61e32f2. If it's required to delete it under any circumstances, please set spark.sql.streaming.forceDeleteTempCheckpointLocation to true. Important to know deleting temp checkpoint folder is best effort.\n",
      "23/02/09 21:11:23 WARN ResolveWriteToStream: spark.sql.adaptive.enabled is not supported in streaming DataFrames/Datasets and will be disabled.\n"
     ]
    }
   ],
   "source": [
    "streaming = df_streaming \\\n",
    "    .writeStream \\\n",
    "    .queryName(temp_table) \\\n",
    "    .outputMode('append') \\\n",
    "    .format('memory') \\\n",
    "    .start()"
   ]
  },
  {
   "cell_type": "code",
   "execution_count": 13,
   "id": "dec7bc83",
   "metadata": {},
   "outputs": [
    {
     "name": "stdout",
     "output_type": "stream",
     "text": [
      "+----------+-----------+---+---------+\n",
      "|id_machine|temperature|rpm|timestamp|\n",
      "+----------+-----------+---+---------+\n",
      "+----------+-----------+---+---------+\n",
      "\n"
     ]
    },
    {
     "name": "stderr",
     "output_type": "stream",
     "text": [
      "                                                                                \r"
     ]
    },
    {
     "name": "stdout",
     "output_type": "stream",
     "text": [
      "+----------+-----------+----+--------------------+\n",
      "|id_machine|temperature| rpm|           timestamp|\n",
      "+----------+-----------+----+--------------------+\n",
      "|   MACH-10|        147|1613|2023-02-09 21:11:...|\n",
      "|   MACH-10|        123|2306|2023-02-09 21:11:...|\n",
      "+----------+-----------+----+--------------------+\n",
      "\n",
      "+----------+-----------+----+--------------------+\n",
      "|id_machine|temperature| rpm|           timestamp|\n",
      "+----------+-----------+----+--------------------+\n",
      "|   MACH-10|        147|1613|2023-02-09 21:11:...|\n",
      "|   MACH-10|        123|2306|2023-02-09 21:11:...|\n",
      "|   MACH-10|        140|1621|2023-02-09 21:12:...|\n",
      "|   MACH-10|        102|1968|2023-02-09 21:12:...|\n",
      "|   MACH-10|        110|2034|2023-02-09 21:12:...|\n",
      "+----------+-----------+----+--------------------+\n",
      "\n",
      "+----------+-----------+----+--------------------+\n",
      "|id_machine|temperature| rpm|           timestamp|\n",
      "+----------+-----------+----+--------------------+\n",
      "|   MACH-10|        147|1613|2023-02-09 21:11:...|\n",
      "|   MACH-10|        123|2306|2023-02-09 21:11:...|\n",
      "|   MACH-10|        140|1621|2023-02-09 21:12:...|\n",
      "|   MACH-10|        102|1968|2023-02-09 21:12:...|\n",
      "|   MACH-10|        110|2034|2023-02-09 21:12:...|\n",
      "|   MACH-10|         63|2336|2023-02-09 21:12:...|\n",
      "|   MACH-10|        121|2404|2023-02-09 21:12:...|\n",
      "|   MACH-10|        131|1541|2023-02-09 21:12:...|\n",
      "+----------+-----------+----+--------------------+\n",
      "\n",
      "+----------+-----------+----+--------------------+\n",
      "|id_machine|temperature| rpm|           timestamp|\n",
      "+----------+-----------+----+--------------------+\n",
      "|   MACH-10|        147|1613|2023-02-09 21:11:...|\n",
      "|   MACH-10|        123|2306|2023-02-09 21:11:...|\n",
      "|   MACH-10|        140|1621|2023-02-09 21:12:...|\n",
      "|   MACH-10|        102|1968|2023-02-09 21:12:...|\n",
      "|   MACH-10|        110|2034|2023-02-09 21:12:...|\n",
      "|   MACH-10|         63|2336|2023-02-09 21:12:...|\n",
      "|   MACH-10|        121|2404|2023-02-09 21:12:...|\n",
      "|   MACH-10|        131|1541|2023-02-09 21:12:...|\n",
      "|   MACH-10|         87|2121|2023-02-09 21:13:...|\n",
      "|   MACH-10|        144|1540|2023-02-09 21:13:...|\n",
      "|   MACH-10|        113|2103|2023-02-09 21:13:...|\n",
      "+----------+-----------+----+--------------------+\n",
      "\n"
     ]
    }
   ],
   "source": [
    "logs = []\n",
    "\n",
    "for _ in range(5):\n",
    "    result = spark.sql(f\"SELECT id_machine, temperature, rpm, timestamp from {temp_table}\")\n",
    "    logs.append(result)\n",
    "    result.show()\n",
    "    time.sleep(INTERVAL)\n",
    "    \n",
    "streaming.stop()"
   ]
  },
  {
   "cell_type": "code",
   "execution_count": 14,
   "id": "101354ea",
   "metadata": {},
   "outputs": [],
   "source": [
    "dfs = [df for df in logs]"
   ]
  },
  {
   "cell_type": "code",
   "execution_count": 15,
   "id": "8658f3d8",
   "metadata": {},
   "outputs": [],
   "source": [
    "dfs = reduce(DataFrame.unionAll, dfs)"
   ]
  },
  {
   "cell_type": "code",
   "execution_count": 16,
   "id": "533a7f95",
   "metadata": {},
   "outputs": [],
   "source": [
    "dfs.coalesce(1).write.option('header', True).csv('logs')"
   ]
  }
 ],
 "metadata": {
  "kernelspec": {
   "display_name": ".env",
   "language": "python",
   "name": "python3"
  },
  "language_info": {
   "codemirror_mode": {
    "name": "ipython",
    "version": 3
   },
   "file_extension": ".py",
   "mimetype": "text/x-python",
   "name": "python",
   "nbconvert_exporter": "python",
   "pygments_lexer": "ipython3",
   "version": "3.10.6"
  },
  "vscode": {
   "interpreter": {
    "hash": "f9c1d917ab8c52fea65124ab987205b773d46f684e28b80948d94e11a5facfdd"
   }
  }
 },
 "nbformat": 4,
 "nbformat_minor": 5
}
