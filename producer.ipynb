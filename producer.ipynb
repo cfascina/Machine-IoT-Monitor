{
 "cells": [
  {
   "cell_type": "code",
   "execution_count": 1,
   "metadata": {},
   "outputs": [],
   "source": [
    "import datetime as dt\n",
    "import json\n",
    "import random\n",
    "import time\n",
    "\n",
    "from kafka import KafkaProducer"
   ]
  },
  {
   "cell_type": "code",
   "execution_count": 2,
   "metadata": {},
   "outputs": [],
   "source": [
    "BASE_MACHINE_NAME = 'MACHINE-'"
   ]
  },
  {
   "cell_type": "code",
   "execution_count": 3,
   "metadata": {},
   "outputs": [],
   "source": [
    "MACHINES = [BASE_MACHINE_NAME + str(i) for i in range(10, 35, 5)]"
   ]
  },
  {
   "cell_type": "code",
   "execution_count": 4,
   "metadata": {},
   "outputs": [],
   "source": [
    "def generate_message():\n",
    "    data = {\n",
    "        'id_machine': random.choice(MACHINES),\n",
    "        'sensors-data': {\n",
    "            'temperature': random.randint(50, 150),\n",
    "            'rpm': random.randint(1500, 2500)\n",
    "        },\n",
    "        'timestamp': str(dt.datetime.now())\n",
    "    }\n",
    "\n",
    "    return data"
   ]
  },
  {
   "cell_type": "code",
   "execution_count": 5,
   "metadata": {},
   "outputs": [],
   "source": [
    "def serializer(message):\n",
    "    return json.dumps(message).encode('utf-8')"
   ]
  },
  {
   "cell_type": "code",
   "execution_count": 6,
   "metadata": {},
   "outputs": [],
   "source": [
    "producer = KafkaProducer(\n",
    "    bootstrap_servers = ['localhost:9092'],\n",
    "    value_serializer = serializer\n",
    ")"
   ]
  },
  {
   "cell_type": "code",
   "execution_count": 23,
   "metadata": {},
   "outputs": [
    {
     "name": "stdout",
     "output_type": "stream",
     "text": [
      "Message sent: {'id_machine': 'MACHINE-25', 'sensors-data': {'temperature': 84, 'rpm': 1639}, 'timestamp': '2023-02-07 16:46:07.634397'}\n",
      "Message sent: {'id_machine': 'MACHINE-10', 'sensors-data': {'temperature': 132, 'rpm': 2485}, 'timestamp': '2023-02-07 16:46:12.638720'}\n",
      "Message sent: {'id_machine': 'MACHINE-25', 'sensors-data': {'temperature': 90, 'rpm': 1522}, 'timestamp': '2023-02-07 16:46:15.642115'}\n",
      "Message sent: {'id_machine': 'MACHINE-20', 'sensors-data': {'temperature': 86, 'rpm': 1630}, 'timestamp': '2023-02-07 16:46:19.646723'}\n",
      "Message sent: {'id_machine': 'MACHINE-10', 'sensors-data': {'temperature': 140, 'rpm': 1886}, 'timestamp': '2023-02-07 16:46:21.650330'}\n",
      "Message sent: {'id_machine': 'MACHINE-25', 'sensors-data': {'temperature': 113, 'rpm': 1689}, 'timestamp': '2023-02-07 16:46:23.650973'}\n",
      "Message sent: {'id_machine': 'MACHINE-15', 'sensors-data': {'temperature': 54, 'rpm': 2390}, 'timestamp': '2023-02-07 16:46:33.658726'}\n",
      "Message sent: {'id_machine': 'MACHINE-25', 'sensors-data': {'temperature': 87, 'rpm': 2264}, 'timestamp': '2023-02-07 16:46:38.662754'}\n",
      "Message sent: {'id_machine': 'MACHINE-20', 'sensors-data': {'temperature': 131, 'rpm': 2272}, 'timestamp': '2023-02-07 16:46:47.670717'}\n",
      "Message sent: {'id_machine': 'MACHINE-30', 'sensors-data': {'temperature': 73, 'rpm': 1633}, 'timestamp': '2023-02-07 16:46:48.672467'}\n",
      "Message sent: {'id_machine': 'MACHINE-30', 'sensors-data': {'temperature': 98, 'rpm': 1840}, 'timestamp': '2023-02-07 16:46:55.678712'}\n",
      "Message sent: {'id_machine': 'MACHINE-20', 'sensors-data': {'temperature': 50, 'rpm': 1965}, 'timestamp': '2023-02-07 16:46:57.681400'}\n",
      "Message sent: {'id_machine': 'MACHINE-15', 'sensors-data': {'temperature': 138, 'rpm': 2336}, 'timestamp': '2023-02-07 16:47:02.688527'}\n",
      "Message sent: {'id_machine': 'MACHINE-30', 'sensors-data': {'temperature': 135, 'rpm': 2324}, 'timestamp': '2023-02-07 16:47:08.694726'}\n",
      "Message sent: {'id_machine': 'MACHINE-20', 'sensors-data': {'temperature': 83, 'rpm': 1982}, 'timestamp': '2023-02-07 16:47:13.700442'}\n",
      "Message sent: {'id_machine': 'MACHINE-15', 'sensors-data': {'temperature': 118, 'rpm': 2062}, 'timestamp': '2023-02-07 16:47:21.706722'}\n",
      "Message sent: {'id_machine': 'MACHINE-15', 'sensors-data': {'temperature': 50, 'rpm': 2062}, 'timestamp': '2023-02-07 16:47:26.710748'}\n",
      "Message sent: {'id_machine': 'MACHINE-25', 'sensors-data': {'temperature': 150, 'rpm': 2480}, 'timestamp': '2023-02-07 16:47:36.718721'}\n",
      "Message sent: {'id_machine': 'MACHINE-30', 'sensors-data': {'temperature': 75, 'rpm': 2174}, 'timestamp': '2023-02-07 16:47:46.729214'}\n"
     ]
    },
    {
     "ename": "KeyboardInterrupt",
     "evalue": "",
     "output_type": "error",
     "traceback": [
      "\u001b[0;31m---------------------------------------------------------------------------\u001b[0m",
      "\u001b[0;31mKeyboardInterrupt\u001b[0m                         Traceback (most recent call last)",
      "Cell \u001b[0;32mIn [23], line 7\u001b[0m\n\u001b[1;32m      4\u001b[0m producer\u001b[39m.\u001b[39msend(\u001b[39m'\u001b[39m\u001b[39msensors-data\u001b[39m\u001b[39m'\u001b[39m, message)\n\u001b[1;32m      5\u001b[0m \u001b[39mprint\u001b[39m(\u001b[39mf\u001b[39m\u001b[39m'\u001b[39m\u001b[39mMessage sent: \u001b[39m\u001b[39m{\u001b[39;00mmessage\u001b[39m}\u001b[39;00m\u001b[39m'\u001b[39m)\n\u001b[0;32m----> 7\u001b[0m time\u001b[39m.\u001b[39;49msleep(random\u001b[39m.\u001b[39;49mrandint(\u001b[39m1\u001b[39;49m, \u001b[39m10\u001b[39;49m))\n",
      "\u001b[0;31mKeyboardInterrupt\u001b[0m: "
     ]
    }
   ],
   "source": [
    "if __name__ == '__main__':\n",
    "    while True:\n",
    "        message = generate_message()\n",
    "        producer.send('sensors-data', message)\n",
    "        print(f'Message sent: {message}')\n",
    "        \n",
    "        time.sleep(random.randint(1, 10))"
   ]
  },
  {
   "cell_type": "code",
   "execution_count": null,
   "metadata": {},
   "outputs": [],
   "source": []
  }
 ],
 "metadata": {
  "kernelspec": {
   "display_name": "Python 3",
   "language": "python",
   "name": "python3"
  },
  "language_info": {
   "codemirror_mode": {
    "name": "ipython",
    "version": 3
   },
   "file_extension": ".py",
   "mimetype": "text/x-python",
   "name": "python",
   "nbconvert_exporter": "python",
   "pygments_lexer": "ipython3",
   "version": "3.10.6"
  },
  "orig_nbformat": 4,
  "vscode": {
   "interpreter": {
    "hash": "916dbcbb3f70747c44a77c7bcd40155683ae19c65e1c03b4aa3499c5328201f1"
   }
  }
 },
 "nbformat": 4,
 "nbformat_minor": 2
}
