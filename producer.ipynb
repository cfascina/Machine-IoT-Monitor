{
 "cells": [
  {
   "cell_type": "code",
   "execution_count": 17,
   "metadata": {},
   "outputs": [],
   "source": [
    "import configparser\n",
    "import datetime as dt\n",
    "import json\n",
    "import random\n",
    "import time\n",
    "\n",
    "from kafka import KafkaProducer\n",
    "from schedule import every, repeat, run_pending"
   ]
  },
  {
   "cell_type": "code",
   "execution_count": 18,
   "metadata": {},
   "outputs": [
    {
     "data": {
      "text/plain": [
       "['config.ini']"
      ]
     },
     "execution_count": 18,
     "metadata": {},
     "output_type": "execute_result"
    }
   ],
   "source": [
    "config = configparser.ConfigParser()\n",
    "config.read('config.ini')"
   ]
  },
  {
   "cell_type": "code",
   "execution_count": 19,
   "metadata": {},
   "outputs": [],
   "source": [
    "TOPIC = config['LOCAL']['TOPIC']\n",
    "SERVER = config['LOCAL']['SERVER']\n",
    "INTERVAL = int(config['LOCAL']['INTERVAL'])"
   ]
  },
  {
   "cell_type": "code",
   "execution_count": 20,
   "metadata": {},
   "outputs": [
    {
     "data": {
      "text/plain": [
       "['MACH-10']"
      ]
     },
     "execution_count": 20,
     "metadata": {},
     "output_type": "execute_result"
    }
   ],
   "source": [
    "# MACHINES = ['MACH-' + str(i) for i in range(10, 60, 10)]\n",
    "MACHINES = ['MACH-' + str(i) for i in range(10, 20, 10)]"
   ]
  },
  {
   "cell_type": "code",
   "execution_count": 21,
   "metadata": {},
   "outputs": [],
   "source": [
    "def serializer(data):\n",
    "    return json.dumps(data).encode('utf-8')"
   ]
  },
  {
   "cell_type": "code",
   "execution_count": 22,
   "metadata": {},
   "outputs": [],
   "source": [
    "producer = KafkaProducer(\n",
    "    bootstrap_servers = [SERVER],\n",
    "    value_serializer = serializer\n",
    ")"
   ]
  },
  {
   "cell_type": "code",
   "execution_count": 23,
   "metadata": {},
   "outputs": [],
   "source": [
    "def get_logs():\n",
    "    logs = []\n",
    "    timestamp = str(dt.datetime.now())\n",
    "\n",
    "    for machine in MACHINES:\n",
    "        machine_log = {\n",
    "            'id_machine': machine,\n",
    "            'temperature': random.randint(50, 150),\n",
    "            'rpm': random.randint(1500, 2500),\n",
    "            'timestamp': timestamp\n",
    "        }\n",
    "        logs.append(machine_log)\n",
    "\n",
    "    return logs"
   ]
  },
  {
   "cell_type": "code",
   "execution_count": 24,
   "metadata": {},
   "outputs": [
    {
     "name": "stdout",
     "output_type": "stream",
     "text": [
      "Message sent: {'id_machine': 'MACH-10', 'temperature': 147, 'rpm': 1613, 'timestamp': '2023-02-09 21:11:30.583922'}\n",
      "Message sent: {'id_machine': 'MACH-10', 'temperature': 123, 'rpm': 2306, 'timestamp': '2023-02-09 21:11:30.584347'}\n",
      "Message sent: {'id_machine': 'MACH-10', 'temperature': 140, 'rpm': 1621, 'timestamp': '2023-02-09 21:12:00.614549'}\n",
      "Message sent: {'id_machine': 'MACH-10', 'temperature': 102, 'rpm': 1968, 'timestamp': '2023-02-09 21:12:00.615902'}\n",
      "Message sent: {'id_machine': 'MACH-10', 'temperature': 110, 'rpm': 2034, 'timestamp': '2023-02-09 21:12:00.616180'}\n",
      "Message sent: {'id_machine': 'MACH-10', 'temperature': 63, 'rpm': 2336, 'timestamp': '2023-02-09 21:12:30.646568'}\n",
      "Message sent: {'id_machine': 'MACH-10', 'temperature': 121, 'rpm': 2404, 'timestamp': '2023-02-09 21:12:30.647448'}\n",
      "Message sent: {'id_machine': 'MACH-10', 'temperature': 131, 'rpm': 1541, 'timestamp': '2023-02-09 21:12:30.648392'}\n",
      "Message sent: {'id_machine': 'MACH-10', 'temperature': 87, 'rpm': 2121, 'timestamp': '2023-02-09 21:13:00.677873'}\n",
      "Message sent: {'id_machine': 'MACH-10', 'temperature': 144, 'rpm': 1540, 'timestamp': '2023-02-09 21:13:00.678183'}\n",
      "Message sent: {'id_machine': 'MACH-10', 'temperature': 113, 'rpm': 2103, 'timestamp': '2023-02-09 21:13:00.678253'}\n",
      "Message sent: {'id_machine': 'MACH-10', 'temperature': 125, 'rpm': 1825, 'timestamp': '2023-02-09 21:13:30.708063'}\n",
      "Message sent: {'id_machine': 'MACH-10', 'temperature': 65, 'rpm': 2256, 'timestamp': '2023-02-09 21:13:30.709449'}\n",
      "Message sent: {'id_machine': 'MACH-10', 'temperature': 137, 'rpm': 1740, 'timestamp': '2023-02-09 21:13:30.710667'}\n"
     ]
    },
    {
     "ename": "KeyboardInterrupt",
     "evalue": "",
     "output_type": "error",
     "traceback": [
      "\u001b[0;31m---------------------------------------------------------------------------\u001b[0m",
      "\u001b[0;31mKeyboardInterrupt\u001b[0m                         Traceback (most recent call last)",
      "Cell \u001b[0;32mIn[24], line 12\u001b[0m\n\u001b[1;32m     10\u001b[0m \u001b[39mwhile\u001b[39;00m \u001b[39mTrue\u001b[39;00m:\n\u001b[1;32m     11\u001b[0m     run_pending()\n\u001b[0;32m---> 12\u001b[0m     time\u001b[39m.\u001b[39;49msleep(INTERVAL)\n",
      "\u001b[0;31mKeyboardInterrupt\u001b[0m: "
     ]
    }
   ],
   "source": [
    "if __name__ == '__main__':\n",
    "    @repeat(every(INTERVAL).seconds)\n",
    "    def job():\n",
    "        logs = get_logs()\n",
    "\n",
    "        for log in logs:\n",
    "            producer.send(TOPIC, log)\n",
    "            print(f'Message sent: {log}')\n",
    "\n",
    "    while True:\n",
    "        run_pending()\n",
    "        time.sleep(INTERVAL)"
   ]
  },
  {
   "cell_type": "code",
   "execution_count": null,
   "metadata": {},
   "outputs": [],
   "source": []
  }
 ],
 "metadata": {
  "kernelspec": {
   "display_name": ".env",
   "language": "python",
   "name": "python3"
  },
  "language_info": {
   "codemirror_mode": {
    "name": "ipython",
    "version": 3
   },
   "file_extension": ".py",
   "mimetype": "text/x-python",
   "name": "python",
   "nbconvert_exporter": "python",
   "pygments_lexer": "ipython3",
   "version": "3.10.6"
  },
  "orig_nbformat": 4,
  "vscode": {
   "interpreter": {
    "hash": "f9c1d917ab8c52fea65124ab987205b773d46f684e28b80948d94e11a5facfdd"
   }
  }
 },
 "nbformat": 4,
 "nbformat_minor": 2
}
