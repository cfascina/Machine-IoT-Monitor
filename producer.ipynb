{
 "cells": [
  {
   "cell_type": "code",
   "execution_count": null,
   "metadata": {},
   "outputs": [],
   "source": [
    "import configparser\n",
    "import datetime as dt\n",
    "import json\n",
    "import random\n",
    "import schedule\n",
    "import time\n",
    "\n",
    "from kafka import KafkaProducer\n",
    "from schedule import every, repeat, run_pending"
   ]
  },
  {
   "cell_type": "code",
   "execution_count": null,
   "metadata": {},
   "outputs": [],
   "source": [
    "config = configparser.ConfigParser()\n",
    "config.read('config.ini')"
   ]
  },
  {
   "cell_type": "code",
   "execution_count": null,
   "metadata": {},
   "outputs": [],
   "source": [
    "TOPIC = config['LOCAL']['TOPIC']\n",
    "MACHINE_PREFIX = config['LOCAL']['MACHINE_PREFIX']\n",
    "SERVER = config['LOCAL']['SERVER']\n",
    "INTERVAL = int(config['LOCAL']['INTERVAL'])"
   ]
  },
  {
   "cell_type": "code",
   "execution_count": null,
   "metadata": {},
   "outputs": [],
   "source": [
    "MACHINES = [MACHINE_PREFIX + str(i) for i in range(10, 60, 10)]"
   ]
  },
  {
   "cell_type": "code",
   "execution_count": null,
   "metadata": {},
   "outputs": [],
   "source": [
    "def serializer(data):\n",
    "    return json.dumps(data).encode('utf-8')"
   ]
  },
  {
   "cell_type": "code",
   "execution_count": null,
   "metadata": {},
   "outputs": [],
   "source": [
    "producer = KafkaProducer(\n",
    "    # bootstrap_servers = ['localhost:9092'],\n",
    "    bootstrap_servers = [SERVER],\n",
    "    value_serializer = serializer\n",
    ")"
   ]
  },
  {
   "cell_type": "code",
   "execution_count": null,
   "metadata": {},
   "outputs": [],
   "source": [
    "def get_logs():\n",
    "    logs = []\n",
    "    timestamp = str(dt.datetime.now())\n",
    "\n",
    "    for machine in MACHINES:\n",
    "        machine_log = {\n",
    "            'id_machine': machine,\n",
    "            'temperature': random.randint(50, 150),\n",
    "            'rpm': random.randint(1500, 2500),\n",
    "            'timestamp': timestamp\n",
    "        }\n",
    "        logs.append(machine_log)\n",
    "\n",
    "    return logs"
   ]
  },
  {
   "cell_type": "code",
   "execution_count": null,
   "metadata": {},
   "outputs": [],
   "source": [
    "if __name__ == '__main__':\n",
    "    @repeat(every(INTERVAL).seconds)\n",
    "    def job():\n",
    "        logs = get_logs()\n",
    "\n",
    "        for log in logs:\n",
    "            producer.send('sensors', log)\n",
    "            # producer.send(TOPIC, log)\n",
    "            print(f'Message sent: {log}')\n",
    "\n",
    "    while True:\n",
    "        run_pending()\n",
    "        time.sleep(INTERVAL)"
   ]
  }
 ],
 "metadata": {
  "kernelspec": {
   "display_name": ".env",
   "language": "python",
   "name": "python3"
  },
  "language_info": {
   "codemirror_mode": {
    "name": "ipython",
    "version": 3
   },
   "file_extension": ".py",
   "mimetype": "text/x-python",
   "name": "python",
   "nbconvert_exporter": "python",
   "pygments_lexer": "ipython3",
   "version": "3.10.6"
  },
  "orig_nbformat": 4,
  "vscode": {
   "interpreter": {
    "hash": "21e67e183eeb530468d1cf86d67351f612ca87188290c98ee2aba6d01609ed7b"
   }
  }
 },
 "nbformat": 4,
 "nbformat_minor": 2
}
