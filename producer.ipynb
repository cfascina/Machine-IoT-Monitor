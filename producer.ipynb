{
 "cells": [
  {
   "cell_type": "code",
   "execution_count": 10,
   "metadata": {},
   "outputs": [],
   "source": [
    "import datetime as dt\n",
    "import json\n",
    "import random\n",
    "import time\n",
    "\n",
    "from kafka import KafkaProducer"
   ]
  },
  {
   "cell_type": "code",
   "execution_count": 11,
   "metadata": {},
   "outputs": [],
   "source": [
    "BASE_MACHINE_NAME = 'MACHINE-'"
   ]
  },
  {
   "cell_type": "code",
   "execution_count": 12,
   "metadata": {},
   "outputs": [],
   "source": [
    "MACHINES = [BASE_MACHINE_NAME + str(i) for i in range(10, 35, 5)]"
   ]
  },
  {
   "cell_type": "code",
   "execution_count": 13,
   "metadata": {},
   "outputs": [],
   "source": [
    "def generate_message():\n",
    "    data = {\n",
    "        'id_machine': random.choice(MACHINES),\n",
    "        'sensors-data': {\n",
    "            'temperature': random.randint(50, 150),\n",
    "            'rpm': random.randint(1500, 2500)\n",
    "        },\n",
    "        'timestamp': str(dt.datetime.now())\n",
    "    }\n",
    "\n",
    "    return data"
   ]
  },
  {
   "cell_type": "code",
   "execution_count": 14,
   "metadata": {},
   "outputs": [],
   "source": [
    "def serializer(message):\n",
    "    return json.dumps(message).encode('utf-8')"
   ]
  },
  {
   "cell_type": "code",
   "execution_count": 15,
   "metadata": {},
   "outputs": [],
   "source": [
    "producer = KafkaProducer(\n",
    "    bootstrap_servers = ['localhost:9092'],\n",
    "    value_serializer = serializer\n",
    ")"
   ]
  },
  {
   "cell_type": "code",
   "execution_count": 16,
   "metadata": {},
   "outputs": [
    {
     "name": "stdout",
     "output_type": "stream",
     "text": [
      "Message sent: {'id_machine': 'MACHINE-30', 'sensors-data': {'temperature': 121, 'rpm': 2439}, 'timestamp': '2023-02-07 12:16:51.331837'}\n",
      "Message sent: {'id_machine': 'MACHINE-20', 'sensors-data': {'temperature': 58, 'rpm': 1942}, 'timestamp': '2023-02-07 12:16:56.334264'}\n",
      "Message sent: {'id_machine': 'MACHINE-10', 'sensors-data': {'temperature': 93, 'rpm': 1894}, 'timestamp': '2023-02-07 12:16:59.338245'}\n",
      "Message sent: {'id_machine': 'MACHINE-10', 'sensors-data': {'temperature': 118, 'rpm': 1736}, 'timestamp': '2023-02-07 12:17:01.341308'}\n",
      "Message sent: {'id_machine': 'MACHINE-10', 'sensors-data': {'temperature': 66, 'rpm': 2251}, 'timestamp': '2023-02-07 12:17:09.346148'}\n",
      "Message sent: {'id_machine': 'MACHINE-15', 'sensors-data': {'temperature': 110, 'rpm': 1986}, 'timestamp': '2023-02-07 12:17:12.350228'}\n"
     ]
    },
    {
     "ename": "KeyboardInterrupt",
     "evalue": "",
     "output_type": "error",
     "traceback": [
      "\u001b[0;31m---------------------------------------------------------------------------\u001b[0m",
      "\u001b[0;31mKeyboardInterrupt\u001b[0m                         Traceback (most recent call last)",
      "Cell \u001b[0;32mIn[16], line 7\u001b[0m\n\u001b[1;32m      4\u001b[0m producer\u001b[39m.\u001b[39msend(\u001b[39m'\u001b[39m\u001b[39msensor-data\u001b[39m\u001b[39m'\u001b[39m, message)\n\u001b[1;32m      5\u001b[0m \u001b[39mprint\u001b[39m(\u001b[39mf\u001b[39m\u001b[39m'\u001b[39m\u001b[39mMessage sent: \u001b[39m\u001b[39m{\u001b[39;00mmessage\u001b[39m}\u001b[39;00m\u001b[39m'\u001b[39m)\n\u001b[0;32m----> 7\u001b[0m time\u001b[39m.\u001b[39;49msleep(random\u001b[39m.\u001b[39;49mrandint(\u001b[39m1\u001b[39;49m, \u001b[39m10\u001b[39;49m))\n",
      "\u001b[0;31mKeyboardInterrupt\u001b[0m: "
     ]
    }
   ],
   "source": [
    "if __name__ == '__main__':\n",
    "    while True:\n",
    "        message = generate_message()\n",
    "        producer.send('sensor-data', message)\n",
    "        print(f'Message sent: {message}')\n",
    "        \n",
    "        time.sleep(random.randint(1, 10))"
   ]
  },
  {
   "cell_type": "code",
   "execution_count": null,
   "metadata": {},
   "outputs": [],
   "source": []
  }
 ],
 "metadata": {
  "kernelspec": {
   "display_name": ".env",
   "language": "python",
   "name": "python3"
  },
  "language_info": {
   "codemirror_mode": {
    "name": "ipython",
    "version": 3
   },
   "file_extension": ".py",
   "mimetype": "text/x-python",
   "name": "python",
   "nbconvert_exporter": "python",
   "pygments_lexer": "ipython3",
   "version": "3.10.6"
  },
  "orig_nbformat": 4,
  "vscode": {
   "interpreter": {
    "hash": "a95017bd76e9612672e7d520c8092149ea134e52129385b6814e42b32a7b1bce"
   }
  }
 },
 "nbformat": 4,
 "nbformat_minor": 2
}
