{
 "cells": [
  {
   "cell_type": "code",
   "execution_count": 64,
   "id": "e14c6950-525d-4e54-a25e-13e9d6818c67",
   "metadata": {},
   "outputs": [],
   "source": [
    "import findspark\n",
    "import os\n",
    "import pyspark\n",
    "import time\n",
    "\n",
    "from pyspark.streaming import StreamingContext\n",
    "from pyspark.sql import SparkSession\n",
    "from pyspark.sql.types import StructType, StructField, StringType, DoubleType, IntegerType\n",
    "from pyspark.sql.functions import col, from_json"
   ]
  },
  {
   "cell_type": "code",
   "execution_count": 65,
   "id": "3183aeb7",
   "metadata": {},
   "outputs": [],
   "source": [
    "findspark.init()"
   ]
  },
  {
   "cell_type": "code",
   "execution_count": 66,
   "id": "5172de34-9787-4f22-b1a7-8e9bb3b7cbf3",
   "metadata": {},
   "outputs": [],
   "source": [
    "os.environ['PYSPARK_SUBMIT_ARGS'] = '--packages org.apache.spark:spark-sql-kafka-0-10_2.12:3.3.1 pyspark-shell'"
   ]
  },
  {
   "cell_type": "code",
   "execution_count": 67,
   "id": "a35f1973-363c-4112-8440-62fca2410984",
   "metadata": {},
   "outputs": [],
   "source": [
    "spark = SparkSession.builder.appName('MachineMonitor').getOrCreate()"
   ]
  },
  {
   "cell_type": "code",
   "execution_count": 68,
   "id": "9544b1c3",
   "metadata": {},
   "outputs": [],
   "source": [
    "# pyspark.SparkContext(app='MachineMonitor').setLogLevel('ERROR')"
   ]
  },
  {
   "cell_type": "code",
   "execution_count": 202,
   "id": "0fb79367",
   "metadata": {},
   "outputs": [],
   "source": [
    "sensor_schema = \\\n",
    "    StructType([\n",
    "        StructField('temperature', StringType(), True),\n",
    "        StructField('rpm', StringType(), True)\n",
    "    ])"
   ]
  },
  {
   "cell_type": "code",
   "execution_count": 203,
   "id": "67c6c09a",
   "metadata": {},
   "outputs": [],
   "source": [
    "topic_schema = \\\n",
    "    StructType([ \n",
    "        StructField('timestamp', StringType(), True), \n",
    "        StructField('id_machine', StringType(), True), \n",
    "        StructField('sensors-data', sensor_schema, True)\n",
    "    ])"
   ]
  },
  {
   "cell_type": "code",
   "execution_count": 204,
   "id": "fa0de89c-e700-4754-9175-d95777b95a18",
   "metadata": {},
   "outputs": [],
   "source": [
    "df = spark \\\n",
    "    .readStream \\\n",
    "    .format('kafka') \\\n",
    "    .option('kafka.bootstrap.servers', 'localhost:9092') \\\n",
    "    .option('subscribe', 'sensors-data') \\\n",
    "    .load()"
   ]
  },
  {
   "cell_type": "code",
   "execution_count": 205,
   "id": "78a505e1-6004-48ab-8275-0cdb96de583a",
   "metadata": {},
   "outputs": [],
   "source": [
    "df = df.selectExpr('CAST(value AS STRING)')"
   ]
  },
  {
   "cell_type": "code",
   "execution_count": 206,
   "id": "f7ce236e",
   "metadata": {},
   "outputs": [],
   "source": [
    "# from pyspark.sql.functions import col, from_json\n",
    "# display(\n",
    "#   df.select(col('value'), from_json(col('value'), topic_schema, {\"mode\" : \"PERMISSIVE\"}))\n",
    "# )"
   ]
  },
  {
   "cell_type": "code",
   "execution_count": 207,
   "id": "85f204e2",
   "metadata": {},
   "outputs": [],
   "source": [
    "df = \\\n",
    "    df.withColumn(\n",
    "        'jsonData', \n",
    "        from_json(col('value'), topic_schema)\n",
    "    ).select('jsonData.*')\n"
   ]
  },
  {
   "cell_type": "code",
   "execution_count": null,
   "id": "651a358b",
   "metadata": {},
   "outputs": [],
   "source": []
  },
  {
   "cell_type": "code",
   "execution_count": 208,
   "id": "df81cd7d",
   "metadata": {},
   "outputs": [],
   "source": [
    "df = \\\n",
    "    df.select(\n",
    "        col('id_machine'), \n",
    "        col('sensors-data.temperature').alias('temperature'), \n",
    "        col('sensors-data.rpm').alias('rpm')\n",
    "    )"
   ]
  },
  {
   "cell_type": "code",
   "execution_count": 209,
   "id": "4aee58c9",
   "metadata": {},
   "outputs": [
    {
     "name": "stdout",
     "output_type": "stream",
     "text": [
      "root\n",
      " |-- id_machine: string (nullable = true)\n",
      " |-- temperature: string (nullable = true)\n",
      " |-- rpm: string (nullable = true)\n",
      "\n"
     ]
    }
   ],
   "source": [
    "df.printSchema()"
   ]
  },
  {
   "cell_type": "markdown",
   "id": "759be47e",
   "metadata": {},
   "source": [
    "---"
   ]
  },
  {
   "cell_type": "code",
   "execution_count": 190,
   "id": "4f064e2f",
   "metadata": {},
   "outputs": [],
   "source": [
    "# df_streaming = df.groupby('id_machine').mean('temperature', 'rpm')"
   ]
  },
  {
   "cell_type": "code",
   "execution_count": 210,
   "id": "ad19e2c0",
   "metadata": {},
   "outputs": [],
   "source": [
    "# df_streaming = \\\n",
    "#     df_streaming.select(\n",
    "#         col('id_machine'),\n",
    "#         col('avg(temperature)').alias('avg_temperature'),\n",
    "#         col('avg(rpm)').alias('avg_rpm')\n",
    "#     )\n",
    "\n",
    "df_streaming = df"
   ]
  },
  {
   "cell_type": "code",
   "execution_count": 211,
   "id": "30de6f58",
   "metadata": {},
   "outputs": [],
   "source": [
    "# df_streaming.printSchema()"
   ]
  },
  {
   "cell_type": "markdown",
   "id": "e1fe7c1b",
   "metadata": {},
   "source": [
    "---"
   ]
  },
  {
   "cell_type": "code",
   "execution_count": 212,
   "id": "e7b2260f",
   "metadata": {},
   "outputs": [],
   "source": [
    "temp_table = f\"machine_data_{time.strftime('%H%M%S', time.localtime())}\""
   ]
  },
  {
   "cell_type": "code",
   "execution_count": 213,
   "id": "4cc17229",
   "metadata": {},
   "outputs": [
    {
     "name": "stdout",
     "output_type": "stream",
     "text": [
      "23/02/07 16:46:00 WARN ResolveWriteToStream: Temporary checkpoint location created which is deleted normally when the query didn't fail: /tmp/temporary-4ef5cd6c-8b64-4bc6-b1d7-4b060e39930c. If it's required to delete it under any circumstances, please set spark.sql.streaming.forceDeleteTempCheckpointLocation to true. Important to know deleting temp checkpoint folder is best effort.\n",
      "23/02/07 16:46:00 WARN ResolveWriteToStream: spark.sql.adaptive.enabled is not supported in streaming DataFrames/Datasets and will be disabled.\n"
     ]
    }
   ],
   "source": [
    "# streaming = df_streaming \\\n",
    "#     .writeStream \\\n",
    "#     .queryName(temp_table) \\\n",
    "#     .outputMode('complete') \\\n",
    "#     .format('memory') \\\n",
    "#     .start()\n",
    "\n",
    "streaming = df \\\n",
    "    .writeStream \\\n",
    "    .queryName(temp_table) \\\n",
    "    .outputMode('append') \\\n",
    "    .format('memory') \\\n",
    "    .start()"
   ]
  },
  {
   "cell_type": "code",
   "execution_count": 214,
   "id": "67fd6bca",
   "metadata": {},
   "outputs": [],
   "source": [
    "# Streams ativados\n",
    "# spark.streams.active"
   ]
  },
  {
   "cell_type": "code",
   "execution_count": 215,
   "id": "d313da44",
   "metadata": {},
   "outputs": [],
   "source": [
    "# spark.sql(f\"SELECT id_machine, avg_temperature, avg_rpm from {temp_table}\").show()\n",
    "# spark.sql(f\"SELECT * from {temp_table}\").show()"
   ]
  },
  {
   "cell_type": "code",
   "execution_count": 216,
   "id": "dec7bc83",
   "metadata": {},
   "outputs": [
    {
     "name": "stdout",
     "output_type": "stream",
     "text": [
      "+----------+-----------+---+\n",
      "|id_machine|temperature|rpm|\n",
      "+----------+-----------+---+\n",
      "+----------+-----------+---+\n",
      "\n"
     ]
    },
    {
     "name": "stderr",
     "output_type": "stream",
     "text": [
      "[Stage 386:(117 + 16) / 200][Stage 388:(15 + 0) / 200][Stage 390:>(0 + 0) / 200]\r"
     ]
    },
    {
     "name": "stdout",
     "output_type": "stream",
     "text": [
      "+----------+-----------+----+\n",
      "|id_machine|temperature| rpm|\n",
      "+----------+-----------+----+\n",
      "|MACHINE-25|         84|1639|\n",
      "|MACHINE-10|        132|2485|\n",
      "|MACHINE-25|         90|1522|\n",
      "|MACHINE-20|         86|1630|\n",
      "+----------+-----------+----+\n",
      "\n"
     ]
    },
    {
     "name": "stderr",
     "output_type": "stream",
     "text": [
      "[Stage 414:=========>  (163 + 16) / 200][Stage 418:>              (0 + 0) / 200]\r"
     ]
    },
    {
     "name": "stdout",
     "output_type": "stream",
     "text": [
      "+----------+-----------+----+\n",
      "|id_machine|temperature| rpm|\n",
      "+----------+-----------+----+\n",
      "|MACHINE-25|         84|1639|\n",
      "|MACHINE-10|        132|2485|\n",
      "|MACHINE-25|         90|1522|\n",
      "|MACHINE-20|         86|1630|\n",
      "|MACHINE-10|        140|1886|\n",
      "|MACHINE-25|        113|1689|\n",
      "|MACHINE-15|         54|2390|\n",
      "+----------+-----------+----+\n",
      "\n"
     ]
    },
    {
     "name": "stderr",
     "output_type": "stream",
     "text": [
      "[Stage 438:(182 + 16) / 200][Stage 439:>  (0 + 0) / 1][Stage 440:>  (0 + 0) / 1]\r"
     ]
    },
    {
     "name": "stdout",
     "output_type": "stream",
     "text": [
      "+----------+-----------+----+\n",
      "|id_machine|temperature| rpm|\n",
      "+----------+-----------+----+\n",
      "|MACHINE-25|         84|1639|\n",
      "|MACHINE-10|        132|2485|\n",
      "|MACHINE-25|         90|1522|\n",
      "|MACHINE-20|         86|1630|\n",
      "|MACHINE-10|        140|1886|\n",
      "|MACHINE-25|        113|1689|\n",
      "|MACHINE-15|         54|2390|\n",
      "|MACHINE-25|         87|2264|\n",
      "|MACHINE-20|        131|2272|\n",
      "+----------+-----------+----+\n",
      "\n"
     ]
    },
    {
     "name": "stderr",
     "output_type": "stream",
     "text": [
      "                                                                                \r"
     ]
    },
    {
     "name": "stdout",
     "output_type": "stream",
     "text": [
      "+----------+-----------+----+\n",
      "|id_machine|temperature| rpm|\n",
      "+----------+-----------+----+\n",
      "|MACHINE-25|         84|1639|\n",
      "|MACHINE-10|        132|2485|\n",
      "|MACHINE-25|         90|1522|\n",
      "|MACHINE-20|         86|1630|\n",
      "|MACHINE-10|        140|1886|\n",
      "|MACHINE-25|        113|1689|\n",
      "|MACHINE-15|         54|2390|\n",
      "|MACHINE-25|         87|2264|\n",
      "|MACHINE-20|        131|2272|\n",
      "|MACHINE-30|         73|1633|\n",
      "|MACHINE-30|         98|1840|\n",
      "|MACHINE-20|         50|1965|\n",
      "|MACHINE-15|        138|2336|\n",
      "+----------+-----------+----+\n",
      "\n"
     ]
    },
    {
     "name": "stderr",
     "output_type": "stream",
     "text": [
      "                                                                                \r"
     ]
    },
    {
     "name": "stdout",
     "output_type": "stream",
     "text": [
      "+----------+-----------+----+\n",
      "|id_machine|temperature| rpm|\n",
      "+----------+-----------+----+\n",
      "|MACHINE-25|         84|1639|\n",
      "|MACHINE-10|        132|2485|\n",
      "|MACHINE-25|         90|1522|\n",
      "|MACHINE-20|         86|1630|\n",
      "|MACHINE-10|        140|1886|\n",
      "|MACHINE-25|        113|1689|\n",
      "|MACHINE-15|         54|2390|\n",
      "|MACHINE-25|         87|2264|\n",
      "|MACHINE-20|        131|2272|\n",
      "|MACHINE-30|         73|1633|\n",
      "|MACHINE-30|         98|1840|\n",
      "|MACHINE-20|         50|1965|\n",
      "|MACHINE-15|        138|2336|\n",
      "|MACHINE-30|        135|2324|\n",
      "|MACHINE-20|         83|1982|\n",
      "+----------+-----------+----+\n",
      "\n"
     ]
    },
    {
     "name": "stderr",
     "output_type": "stream",
     "text": [
      "                                                                                \r"
     ]
    },
    {
     "name": "stdout",
     "output_type": "stream",
     "text": [
      "+----------+-----------+----+\n",
      "|id_machine|temperature| rpm|\n",
      "+----------+-----------+----+\n",
      "|MACHINE-25|         84|1639|\n",
      "|MACHINE-10|        132|2485|\n",
      "|MACHINE-25|         90|1522|\n",
      "|MACHINE-20|         86|1630|\n",
      "|MACHINE-10|        140|1886|\n",
      "|MACHINE-25|        113|1689|\n",
      "|MACHINE-15|         54|2390|\n",
      "|MACHINE-25|         87|2264|\n",
      "|MACHINE-20|        131|2272|\n",
      "|MACHINE-30|         73|1633|\n",
      "|MACHINE-30|         98|1840|\n",
      "|MACHINE-20|         50|1965|\n",
      "|MACHINE-15|        138|2336|\n",
      "|MACHINE-30|        135|2324|\n",
      "|MACHINE-20|         83|1982|\n",
      "|MACHINE-15|        118|2062|\n",
      "|MACHINE-15|         50|2062|\n",
      "+----------+-----------+----+\n",
      "\n"
     ]
    },
    {
     "name": "stderr",
     "output_type": "stream",
     "text": [
      "[Stage 538:=================================>                  (130 + 16) / 200]\r"
     ]
    },
    {
     "ename": "KeyboardInterrupt",
     "evalue": "",
     "output_type": "error",
     "traceback": [
      "\u001b[0;31m---------------------------------------------------------------------------\u001b[0m",
      "\u001b[0;31mKeyboardInterrupt\u001b[0m                         Traceback (most recent call last)",
      "Cell \u001b[0;32mIn [216], line 4\u001b[0m\n\u001b[1;32m      1\u001b[0m \u001b[39mfor\u001b[39;00m x \u001b[39min\u001b[39;00m \u001b[39mrange\u001b[39m(\u001b[39m10\u001b[39m):\n\u001b[1;32m      2\u001b[0m     \u001b[39m# spark.sql(f\"SELECT id_machine, avg_temperature, avg_rpm from {temp_table}\").show()\u001b[39;00m\n\u001b[1;32m      3\u001b[0m     spark\u001b[39m.\u001b[39msql(\u001b[39mf\u001b[39m\u001b[39m\"\u001b[39m\u001b[39mSELECT id_machine, temperature, rpm from \u001b[39m\u001b[39m{\u001b[39;00mtemp_table\u001b[39m}\u001b[39;00m\u001b[39m\"\u001b[39m)\u001b[39m.\u001b[39mshow()\n\u001b[0;32m----> 4\u001b[0m     time\u001b[39m.\u001b[39;49msleep(\u001b[39m15\u001b[39;49m)\n\u001b[1;32m      6\u001b[0m streaming\u001b[39m.\u001b[39mstop()\n",
      "\u001b[0;31mKeyboardInterrupt\u001b[0m: "
     ]
    },
    {
     "name": "stderr",
     "output_type": "stream",
     "text": [
      "                                                                                \r"
     ]
    }
   ],
   "source": [
    "for x in range(10):\n",
    "    # spark.sql(f\"SELECT id_machine, avg_temperature, avg_rpm from {temp_table}\").show()\n",
    "    spark.sql(f\"SELECT id_machine, temperature, rpm from {temp_table}\").show()\n",
    "    time.sleep(15)\n",
    "    \n",
    "streaming.stop()"
   ]
  },
  {
   "cell_type": "code",
   "execution_count": null,
   "id": "c3b14ce6",
   "metadata": {},
   "outputs": [],
   "source": []
  }
 ],
 "metadata": {
  "kernelspec": {
   "display_name": "Python 3",
   "language": "python",
   "name": "python3"
  },
  "language_info": {
   "codemirror_mode": {
    "name": "ipython",
    "version": 3
   },
   "file_extension": ".py",
   "mimetype": "text/x-python",
   "name": "python",
   "nbconvert_exporter": "python",
   "pygments_lexer": "ipython3",
   "version": "3.10.6"
  },
  "vscode": {
   "interpreter": {
    "hash": "916dbcbb3f70747c44a77c7bcd40155683ae19c65e1c03b4aa3499c5328201f1"
   }
  }
 },
 "nbformat": 4,
 "nbformat_minor": 5
}
